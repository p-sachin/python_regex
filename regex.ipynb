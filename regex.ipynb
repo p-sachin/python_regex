{
 "cells": [
  {
   "attachments": {},
   "cell_type": "markdown",
   "metadata": {},
   "source": [
    "#### Regular Expressions"
   ]
  },
  {
   "attachments": {},
   "cell_type": "markdown",
   "metadata": {},
   "source": [
    "1. re module <br>\n",
    "2. Methods to search for matches <br>\n",
    "3. Methods on a match object <br>\n",
    "4. Meta characters <br>\n",
    "5. More Special Sequences <br>\n",
    "6. Sets <br>\n",
    "7. Quantifier <br>\n",
    "8. Conditions <br>\n",
    "9. Modification <br>\n",
    "10. Compilation flags"
   ]
  },
  {
   "attachments": {},
   "cell_type": "markdown",
   "metadata": {},
   "source": [
    "Performing matches with compiled objects¶\n",
    "\n",
    "Once we have our pattern, we can search for this pattern in the text / string that we want to look up.\n",
    "\n",
    "match(): Determine if the RE matches at the beginning of the string.\n",
    "\n",
    "search(): Scan through a string, looking for any location where this RE matches.\n",
    "\n",
    "findall(): Find all substrings where the RE matches, and returns them as a list.\n",
    "\n",
    "finditer(): Find all substrings where the RE matches, and returns them as an iterator."
   ]
  },
  {
   "cell_type": "code",
   "execution_count": 1,
   "metadata": {},
   "outputs": [],
   "source": [
    "# Importing the module\n",
    "import re "
   ]
  },
  {
   "cell_type": "code",
   "execution_count": 30,
   "metadata": {},
   "outputs": [
    {
     "name": "stdout",
     "output_type": "stream",
     "text": [
      "<re.Match object; span=(0, 1), match='a'>\n",
      "<re.Match object; span=(1, 2), match='b'>\n",
      "<re.Match object; span=(2, 3), match='c'>\n"
     ]
    }
   ],
   "source": [
    "test_string = \"abc\"\n",
    "pattern = re.compile(r\"[a-zA-Z0-9]\")\n",
    "matches = pattern.finditer(test_string)\n",
    "#matches = re.finditer(r\"abc\", test_string)\n",
    "\n",
    "#match(), search(), findall()\n",
    "#group, start, end , span\n",
    "for match in matches:\n",
    "    print(match)"
   ]
  },
  {
   "attachments": {},
   "cell_type": "markdown",
   "metadata": {},
   "source": [
    "Meta characters¶ <br>\n",
    "Metacharacters are characters with a special meaning: <br>\n",
    "All meta characters: . ^ $ * + ? { } [ ] \\ | ( )<br>\n",
    "Meta characters need need to be escaped (with ) if we actually want to search for the char.<br>\n",
    "\n",
    ". Any character (except newline character) \"he..o\"<br>\n",
    "^ Starts with \"^hello\"<br>\n",
    "\\$ Ends with \"world\\$\"<br>\n",
    "x Zero or more occurrences \"aix*\"<br>\n",
    "(+) One or more occurrences \"aix+\"<br>\n",
    "{ } Exactly the specified number of occurrences \"al{2}\"<br>\n",
    "[] A set of characters \"[a-m]\"<br>\n",
    "\\ Signals a special sequence (can also be used to escape special characters) \"\\d\"<br>\n",
    "| Either or \"falls|stays\"<br>\n",
    "( ) Capture and group<br>"
   ]
  },
  {
   "attachments": {},
   "cell_type": "markdown",
   "metadata": {},
   "source": [
    "More Metacharacters / Special Sequences¶ <br>\n",
    "A special sequence is a \\ followed by one of the characters in the list below, and has a special meaning:<br>\n",
    "\n",
    "\\d :Matches any decimal digit; this is equivalent to the class [0-9].<br>\n",
    "\\D : Matches any non-digit character; this is equivalent to the class [^0-9].<br>\n",
    "\\s : Matches any whitespace character;<br>\n",
    "\\S : Matches any non-whitespace character;<br>\n",
    "\\w : Matches any alphanumeric (word) character; this is equivalent to the class [a-zA-Z0-9_].<br>\n",
    "\\W : Matches any non-alphanumeric character; this is equivalent to the class [^a-zA-Z0-9_].<br>\n",
    "\\b Returns a match where the specified characters are at the beginning or at the end of a word r\"\\bain\" r\"ain\\b\"<br>\n",
    "\\B Returns a match where the specified characters are present, but NOT at the beginning (or at the end) of a word r\"\\Bain\" r\"ain\\B\"<br>\n",
    "\\A Returns a match if the specified characters are at the beginning of the string \"\\AThe\"<br>\n",
    "\\Z Returns a match if the specified characters are at the end of the string \"Spain\\Z\"<br>"
   ]
  },
  {
   "attachments": {},
   "cell_type": "markdown",
   "metadata": {},
   "source": [
    "Sets¶ <br>\n",
    "A set is a set of characters inside a pair of square brackets [] with a special meaning. Append multiple conditions back-to back, e.g. [aA-Z].<br>\n",
    "A ^ (caret) inside a set negates the expression.<br>\n",
    "A - (dash) in a set specifies a range if it is in between, otherwise the dash itself.<br>\n",
    "\n",
    "Examples:<br>\n",
    "- [arn] Returns a match where one of the specified characters (a, r, or n) are present<br>\n",
    "- [a-n] Returns a match for any lower case character, alphabetically between a and n<br>\n",
    "- [^arn] Returns a match for any character EXCEPT a, r, and n<br>\n",
    "- [0123] Returns a match where any of the specified digits (0, 1, 2, or 3) are present<br>\n",
    "- [0-9] Returns a match for any digit between 0 and 9<br>\n",
    "- [0-5][0-9] Returns a match for any two-digit numbers from 00 and 59<br>\n",
    "- [a-zA-Z] Returns a match for any character alphabetically between a and z, lower case OR upper case<br>"
   ]
  },
  {
   "cell_type": "markdown",
   "metadata": {},
   "source": []
  }
 ],
 "metadata": {
  "kernelspec": {
   "display_name": "Python 3",
   "language": "python",
   "name": "python3"
  },
  "language_info": {
   "codemirror_mode": {
    "name": "ipython",
    "version": 3
   },
   "file_extension": ".py",
   "mimetype": "text/x-python",
   "name": "python",
   "nbconvert_exporter": "python",
   "pygments_lexer": "ipython3",
   "version": "3.8.4"
  },
  "orig_nbformat": 4,
  "vscode": {
   "interpreter": {
    "hash": "9650cb4e16cdd4a8e8e2d128bf38d875813998db22a3c986335f89e0cb4d7bb2"
   }
  }
 },
 "nbformat": 4,
 "nbformat_minor": 2
}
